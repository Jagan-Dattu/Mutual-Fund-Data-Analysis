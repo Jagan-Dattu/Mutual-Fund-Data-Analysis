{
 "cells": [
  {
   "cell_type": "markdown",
   "id": "ca6a9276",
   "metadata": {},
   "source": [
    "## Data Loading"
   ]
  },
  {
   "cell_type": "code",
   "execution_count": 2,
   "id": "1d7a13c9",
   "metadata": {},
   "outputs": [],
   "source": [
    "import pandas as pd\n",
    "df = pd.read_csv(r\"C:\\Users\\jagan\\OneDrive\\Desktop\\top_30_mutual_funds.csv\")\n"
   ]
  },
  {
   "cell_type": "code",
   "execution_count": 2,
   "id": "4e386b11",
   "metadata": {},
   "outputs": [
    {
     "name": "stdout",
     "output_type": "stream",
     "text": [
      "           min_sip   min_lumpsum  expense_ratio  fund_size_cr  fund_age_yr  \\\n",
      "count   814.000000    814.000000     814.000000    814.000000   814.000000   \n",
      "mean    528.500000   3047.468059       0.713231   3812.854214     8.319410   \n",
      "std     369.184517   2514.619513       0.482161   7181.479475     2.640622   \n",
      "min       0.000000      0.000000       0.000000      2.380000     1.000000   \n",
      "25%     150.000000    500.000000       0.310000    175.250000     6.000000   \n",
      "50%     500.000000   5000.000000       0.615000    940.500000    10.000000   \n",
      "75%    1000.000000   5000.000000       1.030000   3819.000000    10.000000   \n",
      "max    2000.000000  25000.000000       2.590000  57052.000000    17.000000   \n",
      "\n",
      "       risk_level      rating  returns_1yr  returns_3yr  returns_5yr  \n",
      "count  814.000000  814.000000   814.000000   793.000000   647.000000  \n",
      "mean     4.400491    2.641278     3.921376    18.525347     9.490726  \n",
      "std      1.814741    1.463476     6.675502    12.108476     3.714015  \n",
      "min      1.000000    0.000000   -19.700000     3.300000    -4.100000  \n",
      "25%      3.000000    2.000000     1.500000     6.200000     6.700000  \n",
      "50%      6.000000    3.000000     4.400000    18.500000     8.900000  \n",
      "75%      6.000000    4.000000     5.600000    27.100000    12.200000  \n",
      "max      6.000000    5.000000   130.800000    71.400000    23.200000  \n"
     ]
    }
   ],
   "source": [
    "print(df.describe())"
   ]
  },
  {
   "cell_type": "code",
   "execution_count": 3,
   "id": "8655f05e",
   "metadata": {},
   "outputs": [
    {
     "data": {
      "text/plain": [
       "array(['Equity', 'Hybrid', 'Other', 'Debt', 'Solution Oriented'],\n",
       "      dtype=object)"
      ]
     },
     "execution_count": 3,
     "metadata": {},
     "output_type": "execute_result"
    }
   ],
   "source": [
    "df['category'].unique()"
   ]
  },
  {
   "cell_type": "code",
   "execution_count": 4,
   "id": "58e3d7e0",
   "metadata": {},
   "outputs": [
    {
     "data": {
      "text/plain": [
       "scheme_name        0\n",
       "min_sip            0\n",
       "min_lumpsum        0\n",
       "expense_ratio      0\n",
       "fund_size_cr       0\n",
       "fund_age_yr        0\n",
       "fund_manager       0\n",
       "sortino            0\n",
       "alpha              0\n",
       "sd                 0\n",
       "beta               0\n",
       "sharpe             0\n",
       "risk_level         0\n",
       "amc_name           0\n",
       "rating             0\n",
       "category           0\n",
       "sub_category       0\n",
       "returns_1yr        0\n",
       "returns_3yr       21\n",
       "returns_5yr      167\n",
       "dtype: int64"
      ]
     },
     "execution_count": 4,
     "metadata": {},
     "output_type": "execute_result"
    }
   ],
   "source": [
    "df.isnull().sum()"
   ]
  },
  {
   "cell_type": "markdown",
   "id": "6e035705",
   "metadata": {},
   "source": [
    "## Data Cleaning "
   ]
  },
  {
   "cell_type": "code",
   "execution_count": 5,
   "id": "2d8395cb",
   "metadata": {},
   "outputs": [
    {
     "name": "stdout",
     "output_type": "stream",
     "text": [
      "scheme_name      0\n",
      "min_sip          0\n",
      "min_lumpsum      0\n",
      "expense_ratio    0\n",
      "fund_size_cr     0\n",
      "fund_age_yr      0\n",
      "fund_manager     0\n",
      "sortino          0\n",
      "alpha            0\n",
      "sd               0\n",
      "beta             0\n",
      "sharpe           0\n",
      "risk_level       0\n",
      "amc_name         0\n",
      "rating           0\n",
      "category         0\n",
      "sub_category     0\n",
      "returns_1yr      0\n",
      "returns_3yr      0\n",
      "returns_5yr      0\n",
      "dtype: int64\n"
     ]
    }
   ],
   "source": [
    "# Replace missing values in returns_3yr and returns_5yr\n",
    "mean_returns_3yr = df['returns_3yr'].mean()\n",
    "mean_returns_5yr = df['returns_5yr'].mean()\n",
    "df['returns_3yr'].fillna(mean_returns_3yr, inplace=True)\n",
    "df['returns_5yr'].fillna(mean_returns_5yr, inplace=True)\n",
    "print(df.isnull().sum())"
   ]
  },
  {
   "cell_type": "markdown",
   "id": "b4483442",
   "metadata": {},
   "source": [
    "## Data Normalization"
   ]
  },
  {
   "cell_type": "code",
   "execution_count": 6,
   "id": "83ebbe85",
   "metadata": {},
   "outputs": [
    {
     "ename": "ModuleNotFoundError",
     "evalue": "No module named 'sklearn'",
     "output_type": "error",
     "traceback": [
      "\u001b[31m---------------------------------------------------------------------------\u001b[39m",
      "\u001b[31mModuleNotFoundError\u001b[39m                       Traceback (most recent call last)",
      "\u001b[36mCell\u001b[39m\u001b[36m \u001b[39m\u001b[32mIn[6]\u001b[39m\u001b[32m, line 1\u001b[39m\n\u001b[32m----> \u001b[39m\u001b[32m1\u001b[39m \u001b[38;5;28;01mfrom\u001b[39;00m\u001b[38;5;250m \u001b[39m\u001b[34;01msklearn\u001b[39;00m\u001b[34;01m.\u001b[39;00m\u001b[34;01mpreprocessing\u001b[39;00m\u001b[38;5;250m \u001b[39m\u001b[38;5;28;01mimport\u001b[39;00m MinMaxScaler\n\u001b[32m      3\u001b[39m columns_to_normalize = [\u001b[33m'\u001b[39m\u001b[33mexpense_ratio\u001b[39m\u001b[33m'\u001b[39m, \u001b[33m'\u001b[39m\u001b[33mreturns_1yr\u001b[39m\u001b[33m'\u001b[39m, \u001b[33m'\u001b[39m\u001b[33mreturns_3yr\u001b[39m\u001b[33m'\u001b[39m, \u001b[33m'\u001b[39m\u001b[33mreturns_5yr\u001b[39m\u001b[33m'\u001b[39m, \n\u001b[32m      4\u001b[39m                         \u001b[33m'\u001b[39m\u001b[33msharpe\u001b[39m\u001b[33m'\u001b[39m, \u001b[33m'\u001b[39m\u001b[33msortino\u001b[39m\u001b[33m'\u001b[39m, \u001b[33m'\u001b[39m\u001b[33malpha\u001b[39m\u001b[33m'\u001b[39m, \u001b[33m'\u001b[39m\u001b[33mbeta\u001b[39m\u001b[33m'\u001b[39m]\n\u001b[32m      5\u001b[39m df[columns_to_normalize] = df[columns_to_normalize].replace(\u001b[33m'\u001b[39m\u001b[33m-\u001b[39m\u001b[33m'\u001b[39m, pd.NA).apply(pd.to_numeric)\n",
      "\u001b[31mModuleNotFoundError\u001b[39m: No module named 'sklearn'"
     ]
    }
   ],
   "source": [
    "from sklearn.preprocessing import MinMaxScaler\n",
    "\n",
    "columns_to_normalize = ['expense_ratio', 'returns_1yr', 'returns_3yr', 'returns_5yr', \n",
    "                        'sharpe', 'sortino', 'alpha', 'beta']\n",
    "df[columns_to_normalize] = df[columns_to_normalize].replace('-', pd.NA).apply(pd.to_numeric)\n",
    "\n",
    "scaler = MinMaxScaler()\n",
    "df_normalized = pd.DataFrame(scaler.fit_transform(df[columns_to_normalize]), columns=columns_to_normalize)\n",
    "\n",
    "# Adjust metrics where lower is better\n",
    "df_normalized['expense_ratio'] = 1 - df_normalized['expense_ratio']\n",
    "df_normalized['beta'] = 1 - df_normalized['beta']"
   ]
  },
  {
   "cell_type": "markdown",
   "id": "e9eb5e47",
   "metadata": {},
   "source": [
    "## Composite Scoring"
   ]
  },
  {
   "cell_type": "code",
   "execution_count": 7,
   "id": "b6998741",
   "metadata": {},
   "outputs": [],
   "source": [
    "weights = {\n",
    "    'expense_ratio': 0.2,\n",
    "    'returns_1yr': 0.15,\n",
    "    'returns_3yr': 0.15,\n",
    "    'returns_5yr': 0.15,\n",
    "    'sharpe': 0.1,\n",
    "    'sortino': 0.1,\n",
    "    'alpha': 0.1,\n",
    "    'beta': 0.05\n",
    "}\n",
    "\n",
    "df_normalized['composite_score'] = sum(\n",
    "    df_normalized[col] * weight for col, weight in weights.items()\n",
    ")\n",
    "df['composite_score'] = df_normalized['composite_score']\n"
   ]
  },
  {
   "cell_type": "markdown",
   "id": "f578f6bf",
   "metadata": {},
   "source": [
    "## Ranking Fund"
   ]
  },
  {
   "cell_type": "code",
   "execution_count": 8,
   "id": "797461be",
   "metadata": {},
   "outputs": [],
   "source": [
    "df['rank'] = df['composite_score'].rank(ascending=False)\n",
    "df_sorted = df.sort_values(by='rank')"
   ]
  },
  {
   "cell_type": "markdown",
   "id": "4921d0d2",
   "metadata": {},
   "source": [
    "## Exporting Result"
   ]
  },
  {
   "cell_type": "code",
   "execution_count": 9,
   "id": "cda6c171",
   "metadata": {},
   "outputs": [
    {
     "name": "stdout",
     "output_type": "stream",
     "text": [
      "Exported top 30 mutual funds to 'top_30_mutual_funds.xlsx'.\n"
     ]
    }
   ],
   "source": [
    "df_top_30 = df_sorted.head(30)\n",
    "df_top_30.to_excel('top_30_mutual_funds.xlsx', index=False)\n",
    "print(\"Exported top 30 mutual funds to 'top_30_mutual_funds.xlsx'.\")"
   ]
  }
 ],
 "metadata": {
  "kernelspec": {
   "display_name": "Python 3",
   "language": "python",
   "name": "python3"
  },
  "language_info": {
   "codemirror_mode": {
    "name": "ipython",
    "version": 3
   },
   "file_extension": ".py",
   "mimetype": "text/x-python",
   "name": "python",
   "nbconvert_exporter": "python",
   "pygments_lexer": "ipython3",
   "version": "3.11.1"
  }
 },
 "nbformat": 4,
 "nbformat_minor": 5
}
